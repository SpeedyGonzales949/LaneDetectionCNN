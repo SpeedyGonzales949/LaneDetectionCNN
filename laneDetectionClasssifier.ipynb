{
 "cells": [
  {
   "cell_type": "code",
   "execution_count": 1,
   "metadata": {},
   "outputs": [],
   "source": [
    "import torch\n",
    "import torchvision\n",
    "import torchvision.transforms as transforms\n",
    "\n",
    "from PIL import Image\n",
    "import matplotlib.pyplot as plt\n"
   ]
  },
  {
   "cell_type": "code",
   "execution_count": 2,
   "metadata": {},
   "outputs": [
    {
     "name": "stdout",
     "output_type": "stream",
     "text": [
      "cuda:0\n"
     ]
    }
   ],
   "source": [
    "device = torch.device(\"cuda:0\" if torch.cuda.is_available() else \"cpu\")\n",
    "#device=torch.device(\"cpu\")\n",
    "# Assuming that we are on a CUDA machine, this should print a CUDA device:\n",
    "\n",
    "print(device)\n"
   ]
  },
  {
   "cell_type": "code",
   "execution_count": 3,
   "metadata": {},
   "outputs": [
    {
     "data": {
      "text/html": [
       "<div>\n",
       "<style scoped>\n",
       "    .dataframe tbody tr th:only-of-type {\n",
       "        vertical-align: middle;\n",
       "    }\n",
       "\n",
       "    .dataframe tbody tr th {\n",
       "        vertical-align: top;\n",
       "    }\n",
       "\n",
       "    .dataframe thead th {\n",
       "        text-align: right;\n",
       "    }\n",
       "</style>\n",
       "<table border=\"1\" class=\"dataframe\">\n",
       "  <thead>\n",
       "    <tr style=\"text-align: right;\">\n",
       "      <th></th>\n",
       "      <th>Images</th>\n",
       "      <th>labels</th>\n",
       "    </tr>\n",
       "  </thead>\n",
       "  <tbody>\n",
       "    <tr>\n",
       "      <th>0</th>\n",
       "      <td>1.jpg</td>\n",
       "      <td>background</td>\n",
       "    </tr>\n",
       "    <tr>\n",
       "      <th>1</th>\n",
       "      <td>10.jpg</td>\n",
       "      <td>background</td>\n",
       "    </tr>\n",
       "    <tr>\n",
       "      <th>2</th>\n",
       "      <td>100.jpg</td>\n",
       "      <td>background</td>\n",
       "    </tr>\n",
       "    <tr>\n",
       "      <th>3</th>\n",
       "      <td>1000.jpg</td>\n",
       "      <td>background</td>\n",
       "    </tr>\n",
       "    <tr>\n",
       "      <th>4</th>\n",
       "      <td>10000.jpg</td>\n",
       "      <td>background</td>\n",
       "    </tr>\n",
       "  </tbody>\n",
       "</table>\n",
       "</div>"
      ],
      "text/plain": [
       "      Images      labels\n",
       "0      1.jpg  background\n",
       "1     10.jpg  background\n",
       "2    100.jpg  background\n",
       "3   1000.jpg  background\n",
       "4  10000.jpg  background"
      ]
     },
     "execution_count": 3,
     "metadata": {},
     "output_type": "execute_result"
    }
   ],
   "source": [
    "import os\n",
    "import pandas as pd\n",
    "BASE_PATH = r\"dataset augm\"\n",
    "image = []\n",
    "labels = []\n",
    "\n",
    "backgroundImages = []\n",
    "laneImages = []\n",
    "for file in os.listdir(BASE_PATH):\n",
    "    if file == \"background\":\n",
    "        for elem in os.listdir(os.path.join(BASE_PATH, file)):\n",
    "            image.append(elem)\n",
    "            labels.append(file)\n",
    "            backgroundImages.append(elem)\n",
    "    else:\n",
    "        for elem in os.listdir(os.path.join(BASE_PATH, file)):\n",
    "            image.append(elem)\n",
    "            laneImages.append(elem)\n",
    "            labels.append(file)\n",
    "\n",
    "backgroundData = {'Images': backgroundImages,\n",
    "                  'labels': ['background' for i in range(len(backgroundImages))],\n",
    "                  'encoded_labels':[0 for i in range(len(backgroundImages))]}\n",
    "laneData = {'Images': laneImages,\n",
    "            'labels': ['lane' for i in range(len(laneImages))],\n",
    "            'encoded_labels':[1 for i in range(len(laneImages))]}\n",
    "\n",
    "backgroundData = pd.DataFrame(backgroundData)\n",
    "laneData = pd.DataFrame(laneData)\n",
    "\n",
    "data = {'Images': image, 'labels': labels}\n",
    "data = pd.DataFrame(data)\n",
    "data.head()\n"
   ]
  },
  {
   "cell_type": "code",
   "execution_count": 4,
   "metadata": {},
   "outputs": [
    {
     "data": {
      "text/html": [
       "<div>\n",
       "<style scoped>\n",
       "    .dataframe tbody tr th:only-of-type {\n",
       "        vertical-align: middle;\n",
       "    }\n",
       "\n",
       "    .dataframe tbody tr th {\n",
       "        vertical-align: top;\n",
       "    }\n",
       "\n",
       "    .dataframe thead th {\n",
       "        text-align: right;\n",
       "    }\n",
       "</style>\n",
       "<table border=\"1\" class=\"dataframe\">\n",
       "  <thead>\n",
       "    <tr style=\"text-align: right;\">\n",
       "      <th></th>\n",
       "      <th>Images</th>\n",
       "      <th>labels</th>\n",
       "      <th>encoded_labels</th>\n",
       "    </tr>\n",
       "  </thead>\n",
       "  <tbody>\n",
       "    <tr>\n",
       "      <th>0</th>\n",
       "      <td>1.jpg</td>\n",
       "      <td>background</td>\n",
       "      <td>0</td>\n",
       "    </tr>\n",
       "    <tr>\n",
       "      <th>1</th>\n",
       "      <td>10.jpg</td>\n",
       "      <td>background</td>\n",
       "      <td>0</td>\n",
       "    </tr>\n",
       "    <tr>\n",
       "      <th>2</th>\n",
       "      <td>100.jpg</td>\n",
       "      <td>background</td>\n",
       "      <td>0</td>\n",
       "    </tr>\n",
       "    <tr>\n",
       "      <th>3</th>\n",
       "      <td>1000.jpg</td>\n",
       "      <td>background</td>\n",
       "      <td>0</td>\n",
       "    </tr>\n",
       "    <tr>\n",
       "      <th>4</th>\n",
       "      <td>10000.jpg</td>\n",
       "      <td>background</td>\n",
       "      <td>0</td>\n",
       "    </tr>\n",
       "  </tbody>\n",
       "</table>\n",
       "</div>"
      ],
      "text/plain": [
       "      Images      labels  encoded_labels\n",
       "0      1.jpg  background               0\n",
       "1     10.jpg  background               0\n",
       "2    100.jpg  background               0\n",
       "3   1000.jpg  background               0\n",
       "4  10000.jpg  background               0"
      ]
     },
     "execution_count": 4,
     "metadata": {},
     "output_type": "execute_result"
    }
   ],
   "source": [
    "from sklearn.preprocessing import LabelEncoder\n",
    "lb=LabelEncoder()\n",
    "data['encoded_labels'] = lb.fit_transform(data['labels'])\n",
    "data.head()\n"
   ]
  },
  {
   "cell_type": "code",
   "execution_count": 5,
   "metadata": {},
   "outputs": [],
   "source": [
    "import numpy as np\n",
    "batch_size = 32\n",
    "validation_split = .3\n",
    "shuffle_dataset = True\n",
    "random_seed = 42\n",
    "\n",
    "# Creating data indices for training and validation splits:\n",
    "# from sklearn.model_selection import train_test_split\n",
    "# tr, val = train_test_split(data.label, stratify=data.label, test_size=0.1)\n",
    "dataset_size = len(data)\n",
    "indices = list(range(dataset_size))\n",
    "split = int(np.floor(validation_split * dataset_size))\n",
    "if shuffle_dataset:\n",
    "    np.random.seed(random_seed)\n",
    "    np.random.shuffle(indices)\n",
    "train_indices, val_indices = indices[split:], indices[:split]\n",
    "# train_indices is equivalent to list(tr.index)\n",
    "# val_indices is equivalent to list(val.index)\n",
    "\n",
    "\n",
    "backgroundImagesSplit = int(np.floor(validation_split * len(backgroundData)))\n",
    "laneImagesSplit = int(np.floor(validation_split * len(laneData)))\n",
    "\n",
    "TRAIN_DATA = pd.concat(\n",
    "    [backgroundData[backgroundImagesSplit:], laneData[laneImagesSplit:]],ignore_index=True) \n",
    "VALIDATION_DATA = pd.concat(\n",
    "    [backgroundData[:backgroundImagesSplit], laneData[:laneImagesSplit]],ignore_index=True)\n"
   ]
  },
  {
   "cell_type": "code",
   "execution_count": 6,
   "metadata": {},
   "outputs": [],
   "source": [
    "from torch.utils.data.sampler import SubsetRandomSampler\n",
    "# Creating PT data samplers and loaders:\n",
    "train_sampler = SubsetRandomSampler(train_indices)\n",
    "valid_sampler = SubsetRandomSampler(val_indices)"
   ]
  },
  {
   "cell_type": "code",
   "execution_count": 7,
   "metadata": {},
   "outputs": [],
   "source": [
    "transform = transforms.Compose(\n",
    "    [transforms.ToTensor(),\n",
    "    # transforms.RandomHorizontalFlip(p=0.5),\n",
    "    # transforms.RandomVerticalFlip(p=0.5),\n",
    "    # transforms.ColorJitter(contrast=(1),saturation=(0.5,1.5),hue=(-0.1,0.1)),\n",
    "    # transforms.RandomRotation(degrees=15), \n",
    "    # transforms.Normalize((0.5, 0.5, 0.5), (0.5, 0.5, 0.5))\n",
    "    ])"
   ]
  },
  {
   "cell_type": "code",
   "execution_count": 8,
   "metadata": {},
   "outputs": [],
   "source": [
    "from torch.utils.data import Dataset, DataLoader\n",
    "class LaneDataset(Dataset):\n",
    "    def __init__(self,img_data,img_path,transform=None) -> None:\n",
    "        super().__init__()\n",
    "        self.img_data=img_data\n",
    "        self.img_path=img_path\n",
    "        self.transform=transform\n",
    "\n",
    "    def __len__(self):\n",
    "        return len(self.img_data)\n",
    "    \n",
    "    def __getitem__(self, index):\n",
    "        img_name=os.path.join(self.img_path,self.img_data.loc[index, 'labels'],\n",
    "        self.img_data.loc[index,'Images'])\n",
    "        image=Image.open(img_name)\n",
    "        if self.transform is not None:\n",
    "            image=self.transform(image)\n",
    "        label=torch.tensor(self.img_data.loc[index, 'encoded_labels'])\n",
    "        return image, label\n",
    "        \n",
    "        \n",
    "        \n",
    "\n"
   ]
  },
  {
   "cell_type": "code",
   "execution_count": 9,
   "metadata": {},
   "outputs": [
    {
     "name": "stdout",
     "output_type": "stream",
     "text": [
      "LaneClassifier(\n",
      "  (conv1): Conv2d(3, 10, kernel_size=(3, 3), stride=(1, 1))\n",
      "  (pool1): MaxPool2d(kernel_size=2, stride=2, padding=0, dilation=1, ceil_mode=False)\n",
      "  (conv2): Conv2d(10, 6, kernel_size=(3, 3), stride=(1, 1))\n",
      "  (conv3): Conv2d(6, 4, kernel_size=(3, 3), stride=(1, 1))\n",
      "  (fc1): Linear(in_features=324, out_features=256, bias=True)\n",
      "  (fc2): Linear(in_features=256, out_features=32, bias=True)\n",
      "  (fc3): Linear(in_features=32, out_features=2, bias=True)\n",
      ")\n"
     ]
    }
   ],
   "source": [
    "import torch.nn as nn\n",
    "import torch.nn.functional as F\n",
    "\n",
    "class LaneClassifier(nn.Module):\n",
    "    def __init__(self) -> None:\n",
    "        super().__init__()\n",
    "        self.conv1=nn.Conv2d(3,10,3)\n",
    "        self.pool1=nn.MaxPool2d(2)\n",
    "        self.conv2=nn.Conv2d(10,6,3)\n",
    "        self.conv3=nn.Conv2d(6,4,3)\n",
    "        self.fc1=nn.Linear(4*3*27,256)\n",
    "        self.fc2=nn.Linear(256,32)\n",
    "        self.fc3=nn.Linear(32,2)\n",
    "    \n",
    "    def forward(self,x):\n",
    "        x=self.pool1(F.relu(self.conv1(x)))\n",
    "        x=F.relu(self.conv2(x))\n",
    "        x=F.relu(self.conv3(x))\n",
    "        x=x.view(x.size(0),-1)\n",
    "        x=F.relu(self.fc1(x))\n",
    "        x=F.relu(self.fc2(x))\n",
    "        x=F.softmax(self.fc3(x),dim=1)\n",
    "        return x\n",
    "laneClassifier= LaneClassifier().to(device)\n",
    "print(laneClassifier)"
   ]
  },
  {
   "cell_type": "code",
   "execution_count": 10,
   "metadata": {},
   "outputs": [],
   "source": [
    "dataset=LaneDataset(data, BASE_PATH,transform)\n",
    "\n",
    "validationDataset=LaneDataset(VALIDATION_DATA,BASE_PATH,transform)\n",
    "trainDataset=LaneDataset(TRAIN_DATA,BASE_PATH,transform)"
   ]
  },
  {
   "cell_type": "code",
   "execution_count": 11,
   "metadata": {},
   "outputs": [
    {
     "name": "stdout",
     "output_type": "stream",
     "text": [
      "          Images      labels  encoded_labels\n",
      "0      14082.jpg  background               0\n",
      "1      14083.jpg  background               0\n",
      "2      14084.jpg  background               0\n",
      "3      14085.jpg  background               0\n",
      "4      14086.jpg  background               0\n",
      "...          ...         ...             ...\n",
      "14555    v84.jpg        lane               1\n",
      "14556    v89.jpg        lane               1\n",
      "14557     v9.jpg        lane               1\n",
      "14558    v92.jpg        lane               1\n",
      "14559    v97.jpg        lane               1\n",
      "\n",
      "[14560 rows x 3 columns]\n",
      "                  Images      labels  encoded_labels\n",
      "0                  1.jpg  background               0\n",
      "1                 10.jpg  background               0\n",
      "2                100.jpg  background               0\n",
      "3               1000.jpg  background               0\n",
      "4              10000.jpg  background               0\n",
      "...                  ...         ...             ...\n",
      "6235  h1672778661240.png        lane               1\n",
      "6236  h1672778662906.png        lane               1\n",
      "6237  h1672778664570.png        lane               1\n",
      "6238  h1672778979528.png        lane               1\n",
      "6239  h1672778985333.png        lane               1\n",
      "\n",
      "[6240 rows x 3 columns]\n"
     ]
    }
   ],
   "source": [
    "train_loader=torch.utils.data.DataLoader(dataset,batch_size=batch_size,sampler=train_sampler)\n",
    "valdiation_loader=torch.utils.data.DataLoader(dataset,batch_size=batch_size,sampler=valid_sampler)\n",
    "\n",
    "# train_loader=torch.utils.data.DataLoader(trainDataset,batch_size=batch_size)\n",
    "# valdiation_loader=torch.utils.data.DataLoader(validationDataset,batch_size=batch_size)\n",
    "print(TRAIN_DATA)\n",
    "print(VALIDATION_DATA)"
   ]
  },
  {
   "cell_type": "code",
   "execution_count": 12,
   "metadata": {},
   "outputs": [],
   "source": [
    "def img_display(img):\n",
    "    #img = img / 2 + 0.5     # unnormalize\n",
    "    npimg = img.numpy()\n",
    "    npimg = np.transpose(npimg, (1, 2, 0))\n",
    "    return npimg"
   ]
  },
  {
   "cell_type": "code",
   "execution_count": 13,
   "metadata": {},
   "outputs": [
    {
     "data": {
      "image/png": "[encoded data removed]",
      "text/plain": [
       "<Figure size 1080x720 with 5 Axes>"
      ]
     },
     "metadata": {
      "needs_background": "light"
     },
     "output_type": "display_data"
    }
   ],
   "source": [
    "# get some random training images\n",
    "dataiter = iter(train_loader)\n",
    "images, labels = next(dataiter)\n",
    "arthopod_types = {0: 'background', 1: 'lane'}\n",
    "# Viewing data examples used for training\n",
    "fig, axis = plt.subplots(1, 5, figsize=(15, 10))\n",
    "for i, ax in enumerate(axis.flat):\n",
    "    with torch.no_grad():\n",
    "        image, label = images[i], labels[i]\n",
    "        ax.imshow(img_display(image)) # add image\n",
    "        ax.set(title = f\"{arthopod_types[label.item()]}\") # add label"
   ]
  },
  {
   "cell_type": "code",
   "execution_count": 14,
   "metadata": {},
   "outputs": [],
   "source": [
    "criterion = nn.CrossEntropyLoss()\n",
    "optimizer = torch.optim.Adam(laneClassifier.parameters(), lr=0.5*10**-4  )"
   ]
  },
  {
   "cell_type": "code",
   "execution_count": 15,
   "metadata": {},
   "outputs": [],
   "source": [
    "def accuracy(out, labels):\n",
    "    _,pred = torch.max(out, dim=1)\n",
    "    return torch.sum(pred==labels).item()"
   ]
  },
  {
   "cell_type": "code",
   "execution_count": 16,
   "metadata": {},
   "outputs": [
    {
     "name": "stdout",
     "output_type": "stream",
     "text": [
      "Epoch 1\n",
      "\n",
      "Epoch [1/100], Step [0/455], Loss: 0.6818\n",
      "Epoch [1/100], Step [80/455], Loss: 0.6966\n",
      "Epoch [1/100], Step [160/455], Loss: 0.6994\n",
      "Epoch [1/100], Step [240/455], Loss: 0.6904\n",
      "Epoch [1/100], Step [320/455], Loss: 0.6855\n",
      "Epoch [1/100], Step [400/455], Loss: 0.6851\n",
      "\n",
      "train loss: 0.6897, train acc: 54.3132\n",
      "validation loss: 0.6750, validation acc: 65.2244\n",
      "\n",
      "Detected network improvement, saving current model\n",
      "Epoch 2\n",
      "\n",
      "Epoch [2/100], Step [0/455], Loss: 0.6667\n",
      "Epoch [2/100], Step [80/455], Loss: 0.6566\n",
      "Epoch [2/100], Step [160/455], Loss: 0.6388\n"
     ]
    },
    {
     "ename": "",
     "evalue": "",
     "output_type": "error",
     "traceback": [
      "\u001b[1;31mCanceled future for execute_request message before replies were done"
     ]
    },
    {
     "ename": "",
     "evalue": "",
     "output_type": "error",
     "traceback": [
      "\u001b[1;31mThe Kernel crashed while executing code in the the current cell or a previous cell. Please review the code in the cell(s) to identify a possible cause of the failure. Click <a href='https://aka.ms/vscodeJupyterKernelCrash'>here</a> for more info. View Jupyter <a href='command:jupyter.viewOutput'>log</a> for further details."
     ]
    }
   ],
   "source": [
    "n_epochs = 100\n",
    "print_every = 80\n",
    "valid_loss_min = np.Inf\n",
    "val_loss = []\n",
    "val_acc = []\n",
    "train_loss = []\n",
    "train_acc = []\n",
    "total_step = len(train_loader)\n",
    "for epoch in range(1, n_epochs+1):\n",
    "    running_loss = 0.0\n",
    "    # scheduler.step(epoch)\n",
    "    correct = 0\n",
    "    total=0\n",
    "    print(f'Epoch {epoch}\\n')\n",
    "    for batch_idx, (data_, target_) in enumerate(train_loader):\n",
    "        data_, target_ = data_.to(device), target_.to(device)# on GPU\n",
    "        # zero the parameter gradients\n",
    "        optimizer.zero_grad()\n",
    "        # forward + backward + optimize\n",
    "        outputs = laneClassifier(data_)\n",
    "        target_=target_.long()\n",
    "        loss = criterion(outputs,target_)\n",
    "        \n",
    "        loss.backward()\n",
    "        optimizer.step()\n",
    "        # print statistics\n",
    "        running_loss += loss.item()\n",
    "        pred = torch.argmax(outputs, dim=1)\n",
    "\n",
    "        correct += torch.sum(pred==target_).item()\n",
    "        total += target_.size(0)\n",
    "        if (batch_idx) % print_every == 0:\n",
    "            print ('Epoch [{}/{}], Step [{}/{}], Loss: {:.4f}' \n",
    "                   .format(epoch, n_epochs, batch_idx, total_step, loss.item()))\n",
    "    train_acc.append(100 * correct / total)\n",
    "    train_loss.append(running_loss/total_step)\n",
    "    print(f'\\ntrain loss: {np.mean(train_loss):.4f}, train acc: {(100 * correct / total):.4f}')\n",
    "    batch_loss = 0\n",
    "    total_t=0\n",
    "    correct_t=0\n",
    "    with torch.no_grad():\n",
    "        laneClassifier.eval()\n",
    "        for data_t, target_t in (valdiation_loader):\n",
    "            data_t, target_t = data_t.to(device), target_t.to(device)# on GPU\n",
    "            outputs_t = laneClassifier(data_t)\n",
    "            target_t=target_t.long()\n",
    "            loss_t = criterion(outputs_t, target_t)\n",
    "            batch_loss += loss_t.item()\n",
    "            pred_t = torch.argmax(outputs_t, dim=1)\n",
    "            correct_t += torch.sum(pred_t==target_t).item()\n",
    "            total_t += target_t.size(0)\n",
    "        val_acc.append(100 * correct_t / total_t)\n",
    "        val_loss.append(batch_loss/len(valdiation_loader))\n",
    "        network_learned = batch_loss < valid_loss_min\n",
    "        print(f'validation loss: {np.mean(val_loss):.4f}, validation acc: {(100 * correct_t / total_t):.4f}\\n')\n",
    "        # Saving the best weight\n",
    "        if epoch == 10:\n",
    "             torch.save(laneClassifier.state_dict(), 'model_classification_tutorial_10.pt')\n",
    "        if network_learned:\n",
    "            valid_loss_min = batch_loss\n",
    "            torch.save(laneClassifier.state_dict(), 'model_classification_tutorial.pt')\n",
    "            print('Detected network improvement, saving current model')\n",
    "    laneClassifier.train()"
   ]
  },
  {
   "cell_type": "code",
   "execution_count": null,
   "metadata": {},
   "outputs": [
    {
     "data": {
      "text/plain": [
       "<matplotlib.legend.Legend at 0x21c9f4b0a90>"
      ]
     },
     "execution_count": 133,
     "metadata": {},
     "output_type": "execute_result"
    },
    {
     "data": {
      "image/png": "[encoded data removed]",
      "text/plain": [
       "<Figure size 432x288 with 2 Axes>"
      ]
     },
     "metadata": {
      "needs_background": "light"
     },
     "output_type": "display_data"
    }
   ],
   "source": [
    "plt.subplot(1, 2, 1)\n",
    "plt.plot(val_acc, label=\"val_acc\")\n",
    "plt.plot(train_acc, label=\"train_acc\")\n",
    "plt.legend(loc=\"upper left\")\n",
    "plt.subplot(1, 2, 2)\n",
    "plt .plot(val_loss, label=\"val_loss\")\n",
    "plt .plot(train_loss, label=\"train_loss\")\n",
    "plt.legend(loc=\"upper left\")"
   ]
  }
 ],
 "metadata": {
  "kernelspec": {
   "display_name": "LaneDetection",
   "language": "python",
   "name": "python3"
  },
  "language_info": {
   "codemirror_mode": {
    "name": "ipython",
    "version": 3
   },
   "file_extension": ".py",
   "mimetype": "text/x-python",
   "name": "python",
   "nbconvert_exporter": "python",
   "pygments_lexer": "ipython3",
   "version": "3.9.15 (main, Nov 24 2022, 14:39:17) [MSC v.1916 64 bit (AMD64)]"
  },
  "orig_nbformat": 4,
  "vscode": {
   "interpreter": {
    "hash": "6531bce48a01630d4cd57a9fc7cbfb15ffd9e1a1c20ee81eed729ee371383d8c"
   }
  }
 },
 "nbformat": 4,
 "nbformat_minor": 2
}
